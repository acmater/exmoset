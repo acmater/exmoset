{
 "cells": [
  {
   "cell_type": "code",
   "execution_count": 1,
   "id": "fossil-grass",
   "metadata": {},
   "outputs": [],
   "source": [
    "import sklearn \n",
    "import numpy as np"
   ]
  },
  {
   "cell_type": "code",
   "execution_count": 2,
   "id": "eight-franklin",
   "metadata": {},
   "outputs": [
    {
     "name": "stdout",
     "output_type": "stream",
     "text": [
      "[0.99244289 0.00755711]\n",
      "[6.30061232 0.54980396]\n"
     ]
    }
   ],
   "source": [
    "from sklearn.decomposition import PCA\n",
    "X = np.array([[-1, -1], [-2, -1], [-3, -2], [1, 1], [2, 1], [3, 2]])\n",
    "pca = PCA(n_components=3)\n",
    "pca.fit(X)\n",
    "print(pca.explained_variance_ratio_)\n",
    "print(pca.singular_values_)\n"
   ]
  },
  {
   "cell_type": "code",
   "execution_count": 9,
   "id": "corrected-macedonia",
   "metadata": {},
   "outputs": [
    {
     "name": "stdout",
     "output_type": "stream",
     "text": [
      "[0.6776179 0.3223821 0.       ]\n",
      "[0.50939423 0.35135573 0.        ]\n"
     ]
    }
   ],
   "source": [
    "mol1 = np.array([1,0.26,0.39])\n",
    "mol2 = np.array([1,0.94,0.61])\n",
    "mol3 = np.array([1,0.52,0.93])\n",
    "\n",
    "mols = np.array([mol1,mol2,mol3])\n",
    "\n",
    "pca = PCA(n_components=3)\n",
    "pca.fit(mols)\n",
    "print(pca.explained_variance_ratio_)\n",
    "print(pca.singular_values_)\n"
   ]
  },
  {
   "cell_type": "code",
   "execution_count": 6,
   "id": "psychological-destiny",
   "metadata": {},
   "outputs": [
    {
     "data": {
      "text/plain": [
       "array([0.        , 0.07848889, 0.04915556])"
      ]
     },
     "execution_count": 6,
     "metadata": {},
     "output_type": "execute_result"
    }
   ],
   "source": [
    "np.var(mols,axis=0)"
   ]
  },
  {
   "cell_type": "code",
   "execution_count": 5,
   "id": "infrared-brand",
   "metadata": {},
   "outputs": [
    {
     "data": {
      "text/plain": [
       "4"
      ]
     },
     "execution_count": 5,
     "metadata": {},
     "output_type": "execute_result"
    }
   ],
   "source": [
    "from rdkit import Chem\n",
    "\n",
    "a = \"CCOC\"\n",
    "mol = Chem.MolFromSmiles(a)\n",
    "\n",
    "len(mol.GetAtoms())"
   ]
  },
  {
   "cell_type": "code",
   "execution_count": 16,
   "id": "constitutional-apollo",
   "metadata": {},
   "outputs": [
    {
     "name": "stdout",
     "output_type": "stream",
     "text": [
      "SINGLE\n",
      "['ClearProp', 'DescribeQuery', 'GetBeginAtom', 'GetBeginAtomIdx', 'GetBondDir', 'GetBondType', 'GetBondTypeAsDouble', 'GetBoolProp', 'GetDoubleProp', 'GetEndAtom', 'GetEndAtomIdx', 'GetIdx', 'GetIntProp', 'GetIsAromatic', 'GetIsConjugated', 'GetOtherAtom', 'GetOtherAtomIdx', 'GetOwningMol', 'GetProp', 'GetPropNames', 'GetPropsAsDict', 'GetSmarts', 'GetStereo', 'GetStereoAtoms', 'GetUnsignedProp', 'GetValenceContrib', 'HasOwningMol', 'HasProp', 'HasQuery', 'IsInRing', 'IsInRingSize', 'Match', 'SetBondDir', 'SetBondType', 'SetBoolProp', 'SetDoubleProp', 'SetIntProp', 'SetIsAromatic', 'SetIsConjugated', 'SetProp', 'SetStereo', 'SetStereoAtoms', 'SetUnsignedProp', '__class__', '__delattr__', '__dict__', '__dir__', '__doc__', '__eq__', '__format__', '__ge__', '__getattribute__', '__gt__', '__hash__', '__init__', '__init_subclass__', '__le__', '__lt__', '__module__', '__ne__', '__new__', '__reduce__', '__reduce_ex__', '__repr__', '__setattr__', '__sizeof__', '__str__', '__subclasshook__', '__weakref__']\n",
      "SINGLE\n",
      "['ClearProp', 'DescribeQuery', 'GetBeginAtom', 'GetBeginAtomIdx', 'GetBondDir', 'GetBondType', 'GetBondTypeAsDouble', 'GetBoolProp', 'GetDoubleProp', 'GetEndAtom', 'GetEndAtomIdx', 'GetIdx', 'GetIntProp', 'GetIsAromatic', 'GetIsConjugated', 'GetOtherAtom', 'GetOtherAtomIdx', 'GetOwningMol', 'GetProp', 'GetPropNames', 'GetPropsAsDict', 'GetSmarts', 'GetStereo', 'GetStereoAtoms', 'GetUnsignedProp', 'GetValenceContrib', 'HasOwningMol', 'HasProp', 'HasQuery', 'IsInRing', 'IsInRingSize', 'Match', 'SetBondDir', 'SetBondType', 'SetBoolProp', 'SetDoubleProp', 'SetIntProp', 'SetIsAromatic', 'SetIsConjugated', 'SetProp', 'SetStereo', 'SetStereoAtoms', 'SetUnsignedProp', '__class__', '__delattr__', '__dict__', '__dir__', '__doc__', '__eq__', '__format__', '__ge__', '__getattribute__', '__gt__', '__hash__', '__init__', '__init_subclass__', '__le__', '__lt__', '__module__', '__ne__', '__new__', '__reduce__', '__reduce_ex__', '__repr__', '__setattr__', '__sizeof__', '__str__', '__subclasshook__', '__weakref__']\n",
      "SINGLE\n",
      "['ClearProp', 'DescribeQuery', 'GetBeginAtom', 'GetBeginAtomIdx', 'GetBondDir', 'GetBondType', 'GetBondTypeAsDouble', 'GetBoolProp', 'GetDoubleProp', 'GetEndAtom', 'GetEndAtomIdx', 'GetIdx', 'GetIntProp', 'GetIsAromatic', 'GetIsConjugated', 'GetOtherAtom', 'GetOtherAtomIdx', 'GetOwningMol', 'GetProp', 'GetPropNames', 'GetPropsAsDict', 'GetSmarts', 'GetStereo', 'GetStereoAtoms', 'GetUnsignedProp', 'GetValenceContrib', 'HasOwningMol', 'HasProp', 'HasQuery', 'IsInRing', 'IsInRingSize', 'Match', 'SetBondDir', 'SetBondType', 'SetBoolProp', 'SetDoubleProp', 'SetIntProp', 'SetIsAromatic', 'SetIsConjugated', 'SetProp', 'SetStereo', 'SetStereoAtoms', 'SetUnsignedProp', '__class__', '__delattr__', '__dict__', '__dir__', '__doc__', '__eq__', '__format__', '__ge__', '__getattribute__', '__gt__', '__hash__', '__init__', '__init_subclass__', '__le__', '__lt__', '__module__', '__ne__', '__new__', '__reduce__', '__reduce_ex__', '__repr__', '__setattr__', '__sizeof__', '__str__', '__subclasshook__', '__weakref__']\n"
     ]
    }
   ],
   "source": [
    "for b in mol.GetBonds():\n",
    "    print(b.GetBondType())\n"
   ]
  },
  {
   "cell_type": "code",
   "execution_count": 37,
   "id": "upper-hunger",
   "metadata": {},
   "outputs": [],
   "source": [
    "import numpy as np\n",
    "from math import log, e\n",
    "\n",
    "\n",
    "def entropy(labels, base=None):\n",
    "    \"\"\" Computes entropy of label distribution. \"\"\"\n",
    "\n",
    "    n_labels = len(labels)\n",
    "\n",
    "    if n_labels <= 1:\n",
    "        return 0\n",
    "\n",
    "    value,counts = np.unique(labels, return_counts=True)\n",
    "    probs = counts / n_labels\n",
    "    n_classes = np.count_nonzero(probs)\n",
    "\n",
    "    if n_classes <= 1:\n",
    "        return 0\n",
    "\n",
    "    ent = 0.\n",
    "\n",
    "    # Compute entropy\n",
    "    base = e if base is None else base\n",
    "    for i in probs:\n",
    "        ent -= i * log(i, base)\n",
    "\n",
    "    return ent\n",
    "\n"
   ]
  },
  {
   "cell_type": "code",
   "execution_count": null,
   "id": "creative-semester",
   "metadata": {},
   "outputs": [],
   "source": []
  },
  {
   "cell_type": "code",
   "execution_count": null,
   "id": "academic-communications",
   "metadata": {},
   "outputs": [],
   "source": []
  },
  {
   "cell_type": "code",
   "execution_count": null,
   "id": "reported-cancellation",
   "metadata": {},
   "outputs": [],
   "source": []
  }
 ],
 "metadata": {
  "kernelspec": {
   "display_name": "chemprop",
   "language": "python",
   "name": "chemprop"
  },
  "language_info": {
   "codemirror_mode": {
    "name": "ipython",
    "version": 3
   },
   "file_extension": ".py",
   "mimetype": "text/x-python",
   "name": "python",
   "nbconvert_exporter": "python",
   "pygments_lexer": "ipython3",
   "version": "3.8.5"
  }
 },
 "nbformat": 4,
 "nbformat_minor": 5
}
