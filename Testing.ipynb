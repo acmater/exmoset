{
 "cells": [
  {
   "cell_type": "code",
   "execution_count": 1,
   "id": "civic-leonard",
   "metadata": {},
   "outputs": [],
   "source": [
    "import sklearn \n",
    "import numpy as np"
   ]
  },
  {
   "cell_type": "code",
   "execution_count": 2,
   "id": "limiting-uganda",
   "metadata": {},
   "outputs": [
    {
     "ename": "ValueError",
     "evalue": "n_components=3 must be between 0 and min(n_samples, n_features)=2 with svd_solver='full'",
     "output_type": "error",
     "traceback": [
      "\u001b[0;31m---------------------------------------------------------------------------\u001b[0m",
      "\u001b[0;31mValueError\u001b[0m                                Traceback (most recent call last)",
      "\u001b[0;32m<ipython-input-2-fa162899014a>\u001b[0m in \u001b[0;36m<module>\u001b[0;34m\u001b[0m\n\u001b[1;32m      2\u001b[0m \u001b[0mX\u001b[0m \u001b[0;34m=\u001b[0m \u001b[0mnp\u001b[0m\u001b[0;34m.\u001b[0m\u001b[0marray\u001b[0m\u001b[0;34m(\u001b[0m\u001b[0;34m[\u001b[0m\u001b[0;34m[\u001b[0m\u001b[0;34m-\u001b[0m\u001b[0;36m1\u001b[0m\u001b[0;34m,\u001b[0m \u001b[0;34m-\u001b[0m\u001b[0;36m1\u001b[0m\u001b[0;34m]\u001b[0m\u001b[0;34m,\u001b[0m \u001b[0;34m[\u001b[0m\u001b[0;34m-\u001b[0m\u001b[0;36m2\u001b[0m\u001b[0;34m,\u001b[0m \u001b[0;34m-\u001b[0m\u001b[0;36m1\u001b[0m\u001b[0;34m]\u001b[0m\u001b[0;34m,\u001b[0m \u001b[0;34m[\u001b[0m\u001b[0;34m-\u001b[0m\u001b[0;36m3\u001b[0m\u001b[0;34m,\u001b[0m \u001b[0;34m-\u001b[0m\u001b[0;36m2\u001b[0m\u001b[0;34m]\u001b[0m\u001b[0;34m,\u001b[0m \u001b[0;34m[\u001b[0m\u001b[0;36m1\u001b[0m\u001b[0;34m,\u001b[0m \u001b[0;36m1\u001b[0m\u001b[0;34m]\u001b[0m\u001b[0;34m,\u001b[0m \u001b[0;34m[\u001b[0m\u001b[0;36m2\u001b[0m\u001b[0;34m,\u001b[0m \u001b[0;36m1\u001b[0m\u001b[0;34m]\u001b[0m\u001b[0;34m,\u001b[0m \u001b[0;34m[\u001b[0m\u001b[0;36m3\u001b[0m\u001b[0;34m,\u001b[0m \u001b[0;36m2\u001b[0m\u001b[0;34m]\u001b[0m\u001b[0;34m]\u001b[0m\u001b[0;34m)\u001b[0m\u001b[0;34m\u001b[0m\u001b[0;34m\u001b[0m\u001b[0m\n\u001b[1;32m      3\u001b[0m \u001b[0mpca\u001b[0m \u001b[0;34m=\u001b[0m \u001b[0mPCA\u001b[0m\u001b[0;34m(\u001b[0m\u001b[0mn_components\u001b[0m\u001b[0;34m=\u001b[0m\u001b[0;36m3\u001b[0m\u001b[0;34m)\u001b[0m\u001b[0;34m\u001b[0m\u001b[0;34m\u001b[0m\u001b[0m\n\u001b[0;32m----> 4\u001b[0;31m \u001b[0mpca\u001b[0m\u001b[0;34m.\u001b[0m\u001b[0mfit\u001b[0m\u001b[0;34m(\u001b[0m\u001b[0mX\u001b[0m\u001b[0;34m)\u001b[0m\u001b[0;34m\u001b[0m\u001b[0;34m\u001b[0m\u001b[0m\n\u001b[0m\u001b[1;32m      5\u001b[0m \u001b[0mprint\u001b[0m\u001b[0;34m(\u001b[0m\u001b[0mpca\u001b[0m\u001b[0;34m.\u001b[0m\u001b[0mexplained_variance_ratio_\u001b[0m\u001b[0;34m)\u001b[0m\u001b[0;34m\u001b[0m\u001b[0;34m\u001b[0m\u001b[0m\n\u001b[1;32m      6\u001b[0m \u001b[0mprint\u001b[0m\u001b[0;34m(\u001b[0m\u001b[0mpca\u001b[0m\u001b[0;34m.\u001b[0m\u001b[0msingular_values_\u001b[0m\u001b[0;34m)\u001b[0m\u001b[0;34m\u001b[0m\u001b[0;34m\u001b[0m\u001b[0m\n",
      "\u001b[0;32m~/anaconda3/envs/chemprop/lib/python3.8/site-packages/sklearn/decomposition/_pca.py\u001b[0m in \u001b[0;36mfit\u001b[0;34m(self, X, y)\u001b[0m\n\u001b[1;32m    350\u001b[0m             \u001b[0mReturns\u001b[0m \u001b[0mthe\u001b[0m \u001b[0minstance\u001b[0m \u001b[0mitself\u001b[0m\u001b[0;34m.\u001b[0m\u001b[0;34m\u001b[0m\u001b[0;34m\u001b[0m\u001b[0m\n\u001b[1;32m    351\u001b[0m         \"\"\"\n\u001b[0;32m--> 352\u001b[0;31m         \u001b[0mself\u001b[0m\u001b[0;34m.\u001b[0m\u001b[0m_fit\u001b[0m\u001b[0;34m(\u001b[0m\u001b[0mX\u001b[0m\u001b[0;34m)\u001b[0m\u001b[0;34m\u001b[0m\u001b[0;34m\u001b[0m\u001b[0m\n\u001b[0m\u001b[1;32m    353\u001b[0m         \u001b[0;32mreturn\u001b[0m \u001b[0mself\u001b[0m\u001b[0;34m\u001b[0m\u001b[0;34m\u001b[0m\u001b[0m\n\u001b[1;32m    354\u001b[0m \u001b[0;34m\u001b[0m\u001b[0m\n",
      "\u001b[0;32m~/anaconda3/envs/chemprop/lib/python3.8/site-packages/sklearn/decomposition/_pca.py\u001b[0m in \u001b[0;36m_fit\u001b[0;34m(self, X)\u001b[0m\n\u001b[1;32m    421\u001b[0m         \u001b[0;31m# Call different fits for either full or truncated SVD\u001b[0m\u001b[0;34m\u001b[0m\u001b[0;34m\u001b[0m\u001b[0;34m\u001b[0m\u001b[0m\n\u001b[1;32m    422\u001b[0m         \u001b[0;32mif\u001b[0m \u001b[0mself\u001b[0m\u001b[0;34m.\u001b[0m\u001b[0m_fit_svd_solver\u001b[0m \u001b[0;34m==\u001b[0m \u001b[0;34m'full'\u001b[0m\u001b[0;34m:\u001b[0m\u001b[0;34m\u001b[0m\u001b[0;34m\u001b[0m\u001b[0m\n\u001b[0;32m--> 423\u001b[0;31m             \u001b[0;32mreturn\u001b[0m \u001b[0mself\u001b[0m\u001b[0;34m.\u001b[0m\u001b[0m_fit_full\u001b[0m\u001b[0;34m(\u001b[0m\u001b[0mX\u001b[0m\u001b[0;34m,\u001b[0m \u001b[0mn_components\u001b[0m\u001b[0;34m)\u001b[0m\u001b[0;34m\u001b[0m\u001b[0;34m\u001b[0m\u001b[0m\n\u001b[0m\u001b[1;32m    424\u001b[0m         \u001b[0;32melif\u001b[0m \u001b[0mself\u001b[0m\u001b[0;34m.\u001b[0m\u001b[0m_fit_svd_solver\u001b[0m \u001b[0;32min\u001b[0m \u001b[0;34m[\u001b[0m\u001b[0;34m'arpack'\u001b[0m\u001b[0;34m,\u001b[0m \u001b[0;34m'randomized'\u001b[0m\u001b[0;34m]\u001b[0m\u001b[0;34m:\u001b[0m\u001b[0;34m\u001b[0m\u001b[0;34m\u001b[0m\u001b[0m\n\u001b[1;32m    425\u001b[0m             \u001b[0;32mreturn\u001b[0m \u001b[0mself\u001b[0m\u001b[0;34m.\u001b[0m\u001b[0m_fit_truncated\u001b[0m\u001b[0;34m(\u001b[0m\u001b[0mX\u001b[0m\u001b[0;34m,\u001b[0m \u001b[0mn_components\u001b[0m\u001b[0;34m,\u001b[0m \u001b[0mself\u001b[0m\u001b[0;34m.\u001b[0m\u001b[0m_fit_svd_solver\u001b[0m\u001b[0;34m)\u001b[0m\u001b[0;34m\u001b[0m\u001b[0;34m\u001b[0m\u001b[0m\n",
      "\u001b[0;32m~/anaconda3/envs/chemprop/lib/python3.8/site-packages/sklearn/decomposition/_pca.py\u001b[0m in \u001b[0;36m_fit_full\u001b[0;34m(self, X, n_components)\u001b[0m\n\u001b[1;32m    437\u001b[0m                                  \"if n_samples >= n_features\")\n\u001b[1;32m    438\u001b[0m         \u001b[0;32melif\u001b[0m \u001b[0;32mnot\u001b[0m \u001b[0;36m0\u001b[0m \u001b[0;34m<=\u001b[0m \u001b[0mn_components\u001b[0m \u001b[0;34m<=\u001b[0m \u001b[0mmin\u001b[0m\u001b[0;34m(\u001b[0m\u001b[0mn_samples\u001b[0m\u001b[0;34m,\u001b[0m \u001b[0mn_features\u001b[0m\u001b[0;34m)\u001b[0m\u001b[0;34m:\u001b[0m\u001b[0;34m\u001b[0m\u001b[0;34m\u001b[0m\u001b[0m\n\u001b[0;32m--> 439\u001b[0;31m             raise ValueError(\"n_components=%r must be between 0 and \"\n\u001b[0m\u001b[1;32m    440\u001b[0m                              \u001b[0;34m\"min(n_samples, n_features)=%r with \"\u001b[0m\u001b[0;34m\u001b[0m\u001b[0;34m\u001b[0m\u001b[0m\n\u001b[1;32m    441\u001b[0m                              \u001b[0;34m\"svd_solver='full'\"\u001b[0m\u001b[0;34m\u001b[0m\u001b[0;34m\u001b[0m\u001b[0m\n",
      "\u001b[0;31mValueError\u001b[0m: n_components=3 must be between 0 and min(n_samples, n_features)=2 with svd_solver='full'"
     ]
    }
   ],
   "source": [
    "from sklearn.decomposition import PCA\n",
    "X = np.array([[-1, -1], [-2, -1], [-3, -2], [1, 1], [2, 1], [3, 2]])\n",
    "pca = PCA(n_components=3)\n",
    "pca.fit(X)\n",
    "print(pca.explained_variance_ratio_)\n",
    "print(pca.singular_values_)\n"
   ]
  },
  {
   "cell_type": "code",
   "execution_count": 9,
   "id": "comfortable-freeze",
   "metadata": {},
   "outputs": [
    {
     "name": "stdout",
     "output_type": "stream",
     "text": [
      "[0.6776179 0.3223821 0.       ]\n",
      "[0.50939423 0.35135573 0.        ]\n"
     ]
    }
   ],
   "source": [
    "mol1 = np.array([1,0.26,0.39])\n",
    "mol2 = np.array([1,0.94,0.61])\n",
    "mol3 = np.array([1,0.52,0.93])\n",
    "\n",
    "mols = np.array([mol1,mol2,mol3])\n",
    "\n",
    "pca = PCA(n_components=3)\n",
    "pca.fit(mols)\n",
    "print(pca.explained_variance_ratio_)\n",
    "print(pca.singular_values_)\n"
   ]
  },
  {
   "cell_type": "code",
   "execution_count": 6,
   "id": "simple-worry",
   "metadata": {},
   "outputs": [
    {
     "data": {
      "text/plain": [
       "array([0.        , 0.07848889, 0.04915556])"
      ]
     },
     "execution_count": 6,
     "metadata": {},
     "output_type": "execute_result"
    }
   ],
   "source": [
    "np.var(mols,axis=0)"
   ]
  },
  {
   "cell_type": "code",
   "execution_count": 64,
   "id": "brutal-torture",
   "metadata": {},
   "outputs": [
    {
     "data": {
      "text/plain": [
       "4"
      ]
     },
     "execution_count": 64,
     "metadata": {},
     "output_type": "execute_result"
    }
   ],
   "source": [
    "from rdkit import Chem\n",
    "\n",
    "a = \"C#COC\"\n",
    "mol = Chem.MolFromSmiles(a)\n",
    "\n",
    "len(mol.GetAtoms())"
   ]
  },
  {
   "cell_type": "code",
   "execution_count": 43,
   "id": "agreed-robertson",
   "metadata": {},
   "outputs": [
    {
     "data": {
      "text/plain": [
       "array(['CC1=NC(=CN1)C#N', 'CC(N)=[NH+]CC([O-])=O',\n",
       "       'NC(N)=[NH+]CC([O-])=O', 'CC(=[NH2+])NCC([O-])=O',\n",
       "       'NC(=[NH2+])NCC([O-])=O', '[NH3+]CCC#CC([O-])=O', 'N=CNC(=O)NC=O',\n",
       "       '[NH2+]=C1O[CH-]C(=O)C=C1', 'NC1=CC(=NN1)C#N', 'NC1=NC(=O)ON=C1',\n",
       "       'C[NH2+]CCC(C=O)=N[O-]', 'O=C1NCC2=C1N=CN2', 'NC1=CC(=O)C(O)=CN1',\n",
       "       'NC1=NC(=NC=C1)C#N', 'CC1=NC(C#N)=C(N)N1', 'CC1=NC(C=O)=C(N)N1',\n",
       "       'NC1=CNC(=O)C(=O)N1', 'NC=[NH+]C1=C[N-]C(=N)O1',\n",
       "       'CCC1=NC(=CN1)C#N', 'CNC1=CC=NC(=O)O1', 'CCN1C=NC(=N)N=C1',\n",
       "       'CCN1C=NC(C=O)=C1', 'O=C1NCCC=C1C#N', 'O=C1CCNC=CC1=O',\n",
       "       '[O-]C(=O)C1=CCNC1=[NH2+]', 'NC(=O)C1NC1CC#N',\n",
       "       '[O-]C(=O)C1CC1NC=[NH2+]', 'NC(=[NH2+])NC(=N)C([O-])=O',\n",
       "       'CC(=O)NC(=O)NC=N', 'CN(CC([O-])=O)C(N)=[NH2+]',\n",
       "       'NC12CC3C1NC23C#N', 'NC1=CC(=O)C(=N)NC1', 'NC=[NH+]C1CC1C([O-])=O',\n",
       "       'OCC#CC(=O)CC#N', 'OCC(=O)COCC#N', 'NCC(N)(CC#N)C#N',\n",
       "       'OCC1=CC(=O)C(=O)N1', 'CC1=C(N)C(=O)N=NN1', 'CC1=NC2=C(NN=N2)N1',\n",
       "       'CC1=NOC(=O)C=C1N', 'CN1C=NN2N=NN=C12', 'CN1N=NC(C#N)=C1N',\n",
       "       'CN1N=NC(C=O)=C1C', 'COC1=CNN=C1C#N', 'NC(=O)CC1=CN=NN1',\n",
       "       'NC(=O)CN1C=NN=N1', 'NC1=C(N)C(=O)N=NN1', 'NC1=NC2=C(NN=N2)N1',\n",
       "       'NC1=NC2=NON=C2N1', 'OC1=CN2N=NN=C2N1', 'CC1=NC(=CN1)N(=O)=O',\n",
       "       'CC1=CC(=O)N=C(F)N1', 'CN1C=CC(=O)N=C1F'], dtype=object)"
      ]
     },
     "execution_count": 43,
     "metadata": {},
     "output_type": "execute_result"
    }
   ],
   "source": [
    "mols = ['CC(C)(C)CCO', 'CC(C)(O)CCO', 'CCCC(C)(C)C', 'CCCC(C)(C)O', 'CCOC(C)(C)C', 'COCC(C)(C)C', 'COCC(C)(C)O', 'CC(C)C(C)(C)C', 'CC(C)C(C)(C)O', 'CC(O)C(C)(C)C', 'CC(O)C(C)(C)O', 'CC(C)CC(C)C', 'CC(C)CC(C)O', 'CC(C)OC(C)C', 'CC(O)CC(C)O', 'CC(C)(CO)CO', 'CC(O)(CO)CO', 'CCC(C)(C)CC', 'CCC(C)(C)CO', 'CCC(C)(C)OC', 'CCC(C)(O)CC', 'CCC(C)(O)CO', 'COC(C)(C)CO', 'CC(C)CCCO', 'CC(C)OCCO', 'CC(O)CCCO', 'CCCCC(C)C', 'CCCCC(C)O', 'CCCOC(C)C', 'CCOCC(C)C', 'CCOCC(C)O', 'COCCC(C)C', 'COCCC(C)O', 'CC(CO)CCO', 'CCC(C)CCO', 'CCC(C)COC', 'CCC(O)CCO', 'CCC(O)COC', 'CCCC(C)CC', 'CCCC(C)CO', 'CCCC(C)OC', 'CCCC(O)CC', 'CCCC(O)CO', 'CCOC(C)CC', 'CCOC(C)CO', 'COC(C)CCO', 'COCC(C)CO', 'COCC(C)OC', 'COCC(O)CO', 'OCCC(O)CO', 'CC(C)C(C)CO', 'CC(C)C(O)CO', 'CC(O)C(C)CO', 'CC(O)C(O)CO', 'CCC(C)C(C)C', 'CCC(C)C(C)O', 'CCC(O)C(C)C', 'CCC(O)C(C)O', 'COC(C)C(C)C', 'COC(C)C(C)O', 'CCC(CC)CC', 'CCC(CC)CO', 'CCC(CC)OC', 'CCC(CO)CO', 'CCC(CO)OC', 'COC(CO)CO', 'OCC(CO)CO', 'CCCCCCC', 'CCCCCCO', 'CCCCCOC', 'CCCCOCC', 'CCCOCCC', 'CCCOCCO', 'CCOCCCO', 'CCOCCOC', 'COCCCCO', 'COCCCOC', 'OCCCCCO', 'OCCOCCO', 'OCCC(F)(F)F', 'CCCC(F)(F)F', 'CNCC(F)(F)F', 'COCC(F)(F)F', 'CC(C)C(F)(F)F', 'CC(N)C(F)(F)F', 'CC(O)C(F)(F)F']\n",
    "mols2 = ['CC#C', 'CC#N', 'CC#CC', 'CCC#C', 'CCC#N', 'NCC#N', 'OCC#C', 'OCC#N', 'CC#CCO', 'CCC#CC', 'CCCC#C', 'CCCC#N', 'COCC#C', 'COCC#N', 'OCCC#C', 'OCCC#N', 'CCC#CCC', 'CCC#CCO', 'OCC#CCO', 'CC#CCCO', 'CCCC#CC', 'COCC#CC', 'CCCCC#C', 'CCCCC#N', 'CCOCC#C', 'CCOCC#N', 'COCCC#C', 'COCCC#N', 'OCCCC#C', 'OCCCC#N', 'CCC#CCCO', 'CCC#CCOC', 'CCCC#CCC', 'CCCC#CCO', 'COCC#CCO', 'OCCC#CCO', 'CC#CCCCO', 'CCCCC#CC', 'CCOCC#CC', 'COCCC#CC', 'CCCCCC#C', 'CCCCCC#N', 'CCCOCC#C', 'CCCOCC#N', 'CCOCCC#C', 'CCOCCC#N', 'COCCCC#C', 'COCCCC#N', 'OCCCCC#C', 'OCCCCC#N', 'OCCOCC#C', 'OCCOCC#N', 'CCCC#CCCC', 'CCCC#CCCO', 'CCCC#CCOC', 'COCC#CCCO', 'COCC#CCOC', 'OCCC#CCCO', 'CCC#CCCCO', 'CCC#CCCOC', 'CCCCC#CCC', 'CCCCC#CCO', 'CCOCC#CCC', 'CCOCC#CCO', 'COCCC#CCO', 'OCCCC#CCO', 'CC#CCCCCO', 'CC#CCOCCO', 'CCCCCC#CC', 'CCCOCC#CC', 'CCOCCC#CC', 'COCCCC#CC', 'CCCCCCC#C', 'CCCCCCC#N', 'CCCCOCC#C', 'CCCCOCC#N', 'CCCOCCC#C', 'CCCOCCC#N', 'CCOCCCC#C', 'CCOCCCC#N', 'COCCCCC#C', 'COCCCCC#N', 'COCCOCC#C', 'COCCOCC#N', 'OCCCCCC#C', 'OCCCCCC#N', 'OCCCOCC#C', 'OCCCOCC#N', 'OCCOCCC#C', 'OCCOCCC#N', 'CCCC#CCCCO', 'CCCC#CCCOC', 'CCCC#CCOCC', 'CCCCC#CCCC', 'CCCCC#CCCO', 'CCCCC#CCOC', 'CCOCC#CCCO', 'CCOCC#CCOC', 'COCC#CCCCO', 'COCCC#CCCO', 'COCCC#CCOC', 'OCCCC#CCCO', 'CCC#CCCCCO', 'CCC#CCCCOC', 'CCC#CCOCCO', 'CCCCCC#CCC', 'CCCCCC#CCO', 'CCCOCC#CCC', 'CCCOCC#CCO', 'CCOCCC#CCC', 'CCOCCC#CCO', 'COCCCC#CCO', 'OCCCCC#CCO', 'OCCOCC#CCO', 'CC#CCCCCCO', 'CC#CCCOCCO', 'CC#CCOCCCO', 'CCCCCCC#CC', 'CCCCOCC#CC', 'CCCOCCC#CC', 'CCOCCCC#CC', 'COCCCCC#CC', 'COCCOCC#CC', 'CCCCCCCC#C', 'CCCCCCCC#N', 'CCCCCOCC#C', 'CCCCCOCC#N', 'CCCCOCCC#C', 'CCCCOCCC#N', 'CCCOCCCC#C', 'CCCOCCCC#N', 'CCOCCCCC#C', 'CCOCCCCC#N', 'CCOCCOCC#C', 'CCOCCOCC#N', 'COCCCCCC#C', 'COCCCCCC#N', 'COCCCOCC#C', 'COCCCOCC#N', 'COCCOCCC#C', 'COCCOCCC#N', 'OCCCCCCC#C', 'OCCCCCCC#N', 'OCCCCOCC#C', 'OCCCCOCC#N', 'OCCCOCCC#C', 'OCCCOCCC#N', 'OCCOCCCC#C', 'OCCOCCCC#N']\n",
    "import pandas as pd \n",
    "\n",
    "df = pd.read_csv(\"molsim/data/QM9_Data.csv\")\n",
    "df[np.logical_and((df[\"Dipole Moment\"] > 7.5).to_numpy(), (df[\"Dipole Moment\"] < 7.6).to_numpy())][\"SMILES\"].to_numpy()\n"
   ]
  },
  {
   "cell_type": "code",
   "execution_count": 63,
   "id": "numerical-resource",
   "metadata": {},
   "outputs": [
    {
     "data": {
      "text/plain": [
       "0.6402312320438752"
      ]
     },
     "execution_count": 63,
     "metadata": {},
     "output_type": "execute_result"
    }
   ],
   "source": [
    "import numpy as np\n",
    "from math import log, e\n",
    "\n",
    "\n",
    "def entropy(labels, base=None):\n",
    "    \"\"\" Computes entropy of label distribution. \"\"\"\n",
    "\n",
    "    n_labels = len(labels)\n",
    "\n",
    "    if n_labels <= 1:\n",
    "        return 0\n",
    "\n",
    "    value,counts = np.unique(labels, return_counts=True)\n",
    "    probs = counts / n_labels\n",
    "    n_classes = np.count_nonzero(probs)\n",
    "\n",
    "    if n_classes <= 1:\n",
    "        return 0\n",
    "\n",
    "    ent = 0.\n",
    "\n",
    "    # Compute entropy\n",
    "    base = e if base is None else base\n",
    "    for i in probs:\n",
    "        ent -= i * log(i, base)\n",
    "\n",
    "    return ent\n",
    "\n",
    "entropy(np.array([7, 8, 8, 8, 8, 8, 8, 8, 8, 8, 8, 8, 8, 8, 8, 8, 8, 8, 8, 8, 8, 8,\n",
    "       8, 8, 8, 8, 8, 8, 8, 8, 8, 8, 8, 8, 8, 9, 9, 9, 9, 9, 9, 9, 9, 9,\n",
    "       9, 9, 9, 9, 9, 9, 9, 9, 9, 9, 9, 9, 9, 9, 9, 9, 9, 9, 9, 9, 9, 9,\n",
    "       9, 9, 9, 9, 9, 9, 9, 9, 9, 9, 9, 9, 9, 9, 9, 9, 9, 9, 9, 9, 9, 9,\n",
    "       9, 9, 9, 9, 9, 9, 9, 9, 9, 9, 9, 9, 9, 9, 9, 9, 9, 9, 9, 9, 9, 9,\n",
    "       9, 9, 9, 9, 9, 9, 9, 9, 9, 9, 9, 9, 9, 9, 9, 9, 9, 9, 9, 9, 9, 9,\n",
    "       9, 9, 9, 9, 9, 9, 9, 9, 9, 9, 9, 9, 9, 9, 9, 9, 9, 9, 9, 9, 9, 9,\n",
    "       9, 9, 9, 9, 9, 9, 9, 9, 9, 9, 9, 9, 9, 9, 9, 9, 9, 9, 9, 9, 9, 9,\n",
    "       9, 9, 9, 9, 9, 9, 9, 9, 9, 9, 9, 9, 9, 9, 9, 9, 9, 9, 9, 9, 9, 9,\n",
    "       9, 9, 9, 9, 9, 9, 9, 9, 9, 9, 9, 9, 9, 9, 9, 9, 9, 9, 9, 9, 9, 9,\n",
    "       9, 9, 9, 9, 9, 9, 9, 9, 9, 9, 9, 9]),base=2)"
   ]
  },
  {
   "cell_type": "code",
   "execution_count": 55,
   "id": "fantastic-library",
   "metadata": {},
   "outputs": [
    {
     "data": {
      "text/plain": [
       "0.12565805017256743"
      ]
     },
     "execution_count": 55,
     "metadata": {},
     "output_type": "execute_result"
    }
   ],
   "source": [
    "entropy(np.array([0, 0, 0, 0, 0, 0, 0, 0, 0, 0, 0, 0, 0, 0, 0, 0, 0, 0, 0, 0, 0, 0,\n",
    "       0, 0, 0, 0, 0, 0, 0, 0, 0, 0, 0, 0, 0, 1, 1, 1, 1, 0, 0, 0, 0, 0,\n",
    "       0, 0, 0, 0, 0, 0, 0, 0, 0, 0, 0, 0, 0, 0, 0, 0, 0, 0, 0, 0, 0, 0,\n",
    "       0, 0, 0, 0, 0, 0, 0, 0, 0, 0, 0, 0, 0, 0, 0, 0, 0, 0, 0, 0, 0, 0,\n",
    "       0, 0, 0, 0, 0, 0, 0, 0, 0, 0, 0, 0, 0, 0, 0, 0, 0, 0, 0, 0, 0, 0,\n",
    "       0, 0, 0, 0, 0, 0, 0, 0, 0, 0, 0, 0, 0, 0, 0, 0, 0, 0, 0, 0, 0, 0,\n",
    "       0, 0, 0, 0, 0, 0, 0, 0, 0, 0, 0, 0, 0, 0, 0, 0, 0, 0, 0, 0, 0, 0,\n",
    "       0, 0, 0, 0, 0, 0, 0, 0, 0, 0, 0, 0, 0, 0, 0, 0, 0, 0, 0, 0, 0, 0,\n",
    "       0, 0, 0, 0, 0, 0, 0, 0, 0, 0, 0, 0, 0, 0, 0, 0, 0, 0, 0, 0, 0, 0,\n",
    "       0, 0, 0, 0, 0, 0, 0, 0, 0, 0, 0, 0, 0, 0, 0, 0, 0, 0, 0, 0, 0, 0,\n",
    "       0, 0, 0, 0, 0, 0, 0, 0, 0, 0, 0, 0]),base=2)"
   ]
  },
  {
   "cell_type": "code",
   "execution_count": 38,
   "id": "written-difficulty",
   "metadata": {},
   "outputs": [
    {
     "data": {
      "text/plain": [
       "0"
      ]
     },
     "execution_count": 38,
     "metadata": {},
     "output_type": "execute_result"
    }
   ],
   "source": [
    "entropy(np.array([0, 0, 0, 0, 0, 0, 0, 0, 0, 0, 0, 0, 0, 0, 0, 0, 0, 0, 0, 0, 0, 0,\n",
    "       0, 0, 0, 0, 0, 0, 0, 0, 0, 0, 0, 0, 0, 0, 0, 0, 0, 0, 0, 0, 0, 0,\n",
    "       0, 0, 0, 0, 0, 0, 0, 0, 0, 0, 0, 0, 0, 0, 0, 0, 0, 0, 0, 0, 0, 0,\n",
    "       0, 0, 0, 0, 0, 0, 0, 0, 0, 0, 0, 0, 0, 0, 0, 0, 0, 0, 0, 0, 0, 0,\n",
    "       0, 0, 0, 0, 0, 0, 0, 0, 0, 0, 0, 0, 0, 0, 0, 0, 0, 0, 0, 0, 0, 0,\n",
    "       0, 0, 0, 0, 0, 0, 0, 0, 0, 0, 0, 0, 0, 0, 0, 0, 0, 0, 0, 0, 0, 0,\n",
    "       0, 0, 0, 0, 0, 0, 0, 0, 0, 0, 0, 0, 0, 0, 0, 0, 0, 0, 0, 0, 0, 0,\n",
    "       0, 0, 0, 0, 0, 0, 0, 0, 0, 0, 0, 0, 0, 0, 0, 0, 0, 0, 0, 0, 0, 0,\n",
    "       0, 0, 0, 0, 0, 0, 0, 0, 0, 0, 0, 0, 0, 0, 0, 0, 0, 0, 0, 0, 0, 0,\n",
    "       0, 0, 0, 0, 0, 0, 0, 0, 0, 0, 0, 0, 0, 0, 0, 0, 0, 0, 0, 0, 0, 0,\n",
    "       0, 0, 0, 0, 0, 0, 0, 0, 0, 0, 0, 0]),base=2)"
   ]
  },
  {
   "cell_type": "code",
   "execution_count": null,
   "id": "unable-creation",
   "metadata": {},
   "outputs": [],
   "source": []
  }
 ],
 "metadata": {
  "kernelspec": {
   "display_name": "chemprop",
   "language": "python",
   "name": "chemprop"
  },
  "language_info": {
   "codemirror_mode": {
    "name": "ipython",
    "version": 3
   },
   "file_extension": ".py",
   "mimetype": "text/x-python",
   "name": "python",
   "nbconvert_exporter": "python",
   "pygments_lexer": "ipython3",
   "version": "3.8.5"
  }
 },
 "nbformat": 4,
 "nbformat_minor": 5
}
