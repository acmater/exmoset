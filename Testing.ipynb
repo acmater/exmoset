{
 "cells": [
  {
   "cell_type": "code",
   "execution_count": 1,
   "id": "limited-imaging",
   "metadata": {},
   "outputs": [],
   "source": [
    "import sklearn \n",
    "import numpy as np"
   ]
  },
  {
   "cell_type": "code",
   "execution_count": 2,
   "id": "personalized-tobago",
   "metadata": {},
   "outputs": [
    {
     "name": "stdout",
     "output_type": "stream",
     "text": [
      "[0.99244289 0.00755711]\n",
      "[6.30061232 0.54980396]\n"
     ]
    }
   ],
   "source": [
    "from sklearn.decomposition import PCA\n",
    "X = np.array([[-1, -1], [-2, -1], [-3, -2], [1, 1], [2, 1], [3, 2]])\n",
    "pca = PCA(n_components=3)\n",
    "pca.fit(X)\n",
    "print(pca.explained_variance_ratio_)\n",
    "print(pca.singular_values_)\n"
   ]
  },
  {
   "cell_type": "code",
   "execution_count": 9,
   "id": "comic-pixel",
   "metadata": {},
   "outputs": [
    {
     "name": "stdout",
     "output_type": "stream",
     "text": [
      "[0.6776179 0.3223821 0.       ]\n",
      "[0.50939423 0.35135573 0.        ]\n"
     ]
    }
   ],
   "source": [
    "mol1 = np.array([1,0.26,0.39])\n",
    "mol2 = np.array([1,0.94,0.61])\n",
    "mol3 = np.array([1,0.52,0.93])\n",
    "\n",
    "mols = np.array([mol1,mol2,mol3])\n",
    "\n",
    "pca = PCA(n_components=3)\n",
    "pca.fit(mols)\n",
    "print(pca.explained_variance_ratio_)\n",
    "print(pca.singular_values_)\n"
   ]
  },
  {
   "cell_type": "code",
   "execution_count": 6,
   "id": "strong-reconstruction",
   "metadata": {},
   "outputs": [
    {
     "data": {
      "text/plain": [
       "array([0.        , 0.07848889, 0.04915556])"
      ]
     },
     "execution_count": 6,
     "metadata": {},
     "output_type": "execute_result"
    }
   ],
   "source": [
    "np.var(mols,axis=0)"
   ]
  },
  {
   "cell_type": "code",
   "execution_count": 64,
   "id": "accepted-underwear",
   "metadata": {},
   "outputs": [
    {
     "data": {
      "text/plain": [
       "4"
      ]
     },
     "execution_count": 64,
     "metadata": {},
     "output_type": "execute_result"
    }
   ],
   "source": [
    "from rdkit import Chem\n",
    "\n",
    "a = \"C#COC\"\n",
    "mol = Chem.MolFromSmiles(a)\n",
    "\n",
    "len(mol.GetAtoms())"
   ]
  },
  {
   "cell_type": "code",
   "execution_count": 92,
   "id": "advance-verse",
   "metadata": {},
   "outputs": [
    {
     "name": "stdout",
     "output_type": "stream",
     "text": [
      "True\n",
      "True\n",
      "False\n",
      "True\n",
      "False\n",
      "False\n",
      "True\n",
      "False\n",
      "True\n",
      "True\n",
      "True\n",
      "False\n",
      "True\n",
      "False\n",
      "True\n",
      "True\n",
      "True\n",
      "False\n",
      "True\n",
      "False\n",
      "True\n",
      "True\n",
      "True\n",
      "True\n",
      "True\n",
      "True\n",
      "False\n",
      "True\n",
      "False\n",
      "False\n",
      "True\n",
      "False\n",
      "True\n",
      "True\n",
      "True\n",
      "False\n",
      "True\n",
      "True\n",
      "False\n",
      "True\n",
      "False\n",
      "True\n",
      "True\n",
      "False\n",
      "True\n",
      "True\n",
      "True\n",
      "False\n",
      "True\n",
      "True\n",
      "True\n",
      "True\n",
      "True\n",
      "True\n",
      "False\n",
      "True\n",
      "True\n",
      "True\n",
      "False\n",
      "True\n",
      "False\n",
      "True\n",
      "False\n",
      "True\n",
      "True\n",
      "True\n",
      "True\n",
      "False\n",
      "True\n",
      "False\n",
      "False\n",
      "False\n",
      "True\n",
      "True\n",
      "False\n",
      "True\n",
      "False\n",
      "True\n",
      "True\n",
      "True\n",
      "False\n",
      "False\n",
      "False\n",
      "False\n",
      "False\n",
      "True\n"
     ]
    }
   ],
   "source": [
    "mols = ['CC(C)(C)CCO', 'CC(C)(O)CCO', 'CCCC(C)(C)C', 'CCCC(C)(C)O', 'CCOC(C)(C)C', 'COCC(C)(C)C', 'COCC(C)(C)O', 'CC(C)C(C)(C)C', 'CC(C)C(C)(C)O', 'CC(O)C(C)(C)C', 'CC(O)C(C)(C)O', 'CC(C)CC(C)C', 'CC(C)CC(C)O', 'CC(C)OC(C)C', 'CC(O)CC(C)O', 'CC(C)(CO)CO', 'CC(O)(CO)CO', 'CCC(C)(C)CC', 'CCC(C)(C)CO', 'CCC(C)(C)OC', 'CCC(C)(O)CC', 'CCC(C)(O)CO', 'COC(C)(C)CO', 'CC(C)CCCO', 'CC(C)OCCO', 'CC(O)CCCO', 'CCCCC(C)C', 'CCCCC(C)O', 'CCCOC(C)C', 'CCOCC(C)C', 'CCOCC(C)O', 'COCCC(C)C', 'COCCC(C)O', 'CC(CO)CCO', 'CCC(C)CCO', 'CCC(C)COC', 'CCC(O)CCO', 'CCC(O)COC', 'CCCC(C)CC', 'CCCC(C)CO', 'CCCC(C)OC', 'CCCC(O)CC', 'CCCC(O)CO', 'CCOC(C)CC', 'CCOC(C)CO', 'COC(C)CCO', 'COCC(C)CO', 'COCC(C)OC', 'COCC(O)CO', 'OCCC(O)CO', 'CC(C)C(C)CO', 'CC(C)C(O)CO', 'CC(O)C(C)CO', 'CC(O)C(O)CO', 'CCC(C)C(C)C', 'CCC(C)C(C)O', 'CCC(O)C(C)C', 'CCC(O)C(C)O', 'COC(C)C(C)C', 'COC(C)C(C)O', 'CCC(CC)CC', 'CCC(CC)CO', 'CCC(CC)OC', 'CCC(CO)CO', 'CCC(CO)OC', 'COC(CO)CO', 'OCC(CO)CO', 'CCCCCCC', 'CCCCCCO', 'CCCCCOC', 'CCCCOCC', 'CCCOCCC', 'CCCOCCO', 'CCOCCCO', 'CCOCCOC', 'COCCCCO', 'COCCCOC', 'OCCCCCO', 'OCCOCCO', 'OCCC(F)(F)F', 'CCCC(F)(F)F', 'CNCC(F)(F)F', 'COCC(F)(F)F', 'CC(C)C(F)(F)F', 'CC(N)C(F)(F)F', 'CC(O)C(F)(F)F']\n",
    "\n",
    "patt = Chem.MolFromSmarts('[OH]')\n",
    "for mol in mols:\n",
    "    mol = Chem.MolFromSmiles(mol)\n",
    "    print(mol.HasSubstructMatch(patt))\n"
   ]
  },
  {
   "cell_type": "code",
   "execution_count": 63,
   "id": "governing-championship",
   "metadata": {},
   "outputs": [
    {
     "data": {
      "text/plain": [
       "0.6402312320438752"
      ]
     },
     "execution_count": 63,
     "metadata": {},
     "output_type": "execute_result"
    }
   ],
   "source": [
    "import numpy as np\n",
    "from math import log, e\n",
    "\n",
    "\n",
    "def entropy(labels, base=None):\n",
    "    \"\"\" Computes entropy of label distribution. \"\"\"\n",
    "\n",
    "    n_labels = len(labels)\n",
    "\n",
    "    if n_labels <= 1:\n",
    "        return 0\n",
    "\n",
    "    value,counts = np.unique(labels, return_counts=True)\n",
    "    probs = counts / n_labels\n",
    "    n_classes = np.count_nonzero(probs)\n",
    "\n",
    "    if n_classes <= 1:\n",
    "        return 0\n",
    "\n",
    "    ent = 0.\n",
    "\n",
    "    # Compute entropy\n",
    "    base = e if base is None else base\n",
    "    for i in probs:\n",
    "        ent -= i * log(i, base)\n",
    "\n",
    "    return ent\n",
    "\n",
    "entropy(np.array([7, 8, 8, 8, 8, 8, 8, 8, 8, 8, 8, 8, 8, 8, 8, 8, 8, 8, 8, 8, 8, 8,\n",
    "       8, 8, 8, 8, 8, 8, 8, 8, 8, 8, 8, 8, 8, 9, 9, 9, 9, 9, 9, 9, 9, 9,\n",
    "       9, 9, 9, 9, 9, 9, 9, 9, 9, 9, 9, 9, 9, 9, 9, 9, 9, 9, 9, 9, 9, 9,\n",
    "       9, 9, 9, 9, 9, 9, 9, 9, 9, 9, 9, 9, 9, 9, 9, 9, 9, 9, 9, 9, 9, 9,\n",
    "       9, 9, 9, 9, 9, 9, 9, 9, 9, 9, 9, 9, 9, 9, 9, 9, 9, 9, 9, 9, 9, 9,\n",
    "       9, 9, 9, 9, 9, 9, 9, 9, 9, 9, 9, 9, 9, 9, 9, 9, 9, 9, 9, 9, 9, 9,\n",
    "       9, 9, 9, 9, 9, 9, 9, 9, 9, 9, 9, 9, 9, 9, 9, 9, 9, 9, 9, 9, 9, 9,\n",
    "       9, 9, 9, 9, 9, 9, 9, 9, 9, 9, 9, 9, 9, 9, 9, 9, 9, 9, 9, 9, 9, 9,\n",
    "       9, 9, 9, 9, 9, 9, 9, 9, 9, 9, 9, 9, 9, 9, 9, 9, 9, 9, 9, 9, 9, 9,\n",
    "       9, 9, 9, 9, 9, 9, 9, 9, 9, 9, 9, 9, 9, 9, 9, 9, 9, 9, 9, 9, 9, 9,\n",
    "       9, 9, 9, 9, 9, 9, 9, 9, 9, 9, 9, 9]),base=2)"
   ]
  },
  {
   "cell_type": "code",
   "execution_count": 55,
   "id": "temporal-billy",
   "metadata": {},
   "outputs": [
    {
     "data": {
      "text/plain": [
       "0.12565805017256743"
      ]
     },
     "execution_count": 55,
     "metadata": {},
     "output_type": "execute_result"
    }
   ],
   "source": [
    "entropy(np.array([0, 0, 0, 0, 0, 0, 0, 0, 0, 0, 0, 0, 0, 0, 0, 0, 0, 0, 0, 0, 0, 0,\n",
    "       0, 0, 0, 0, 0, 0, 0, 0, 0, 0, 0, 0, 0, 1, 1, 1, 1, 0, 0, 0, 0, 0,\n",
    "       0, 0, 0, 0, 0, 0, 0, 0, 0, 0, 0, 0, 0, 0, 0, 0, 0, 0, 0, 0, 0, 0,\n",
    "       0, 0, 0, 0, 0, 0, 0, 0, 0, 0, 0, 0, 0, 0, 0, 0, 0, 0, 0, 0, 0, 0,\n",
    "       0, 0, 0, 0, 0, 0, 0, 0, 0, 0, 0, 0, 0, 0, 0, 0, 0, 0, 0, 0, 0, 0,\n",
    "       0, 0, 0, 0, 0, 0, 0, 0, 0, 0, 0, 0, 0, 0, 0, 0, 0, 0, 0, 0, 0, 0,\n",
    "       0, 0, 0, 0, 0, 0, 0, 0, 0, 0, 0, 0, 0, 0, 0, 0, 0, 0, 0, 0, 0, 0,\n",
    "       0, 0, 0, 0, 0, 0, 0, 0, 0, 0, 0, 0, 0, 0, 0, 0, 0, 0, 0, 0, 0, 0,\n",
    "       0, 0, 0, 0, 0, 0, 0, 0, 0, 0, 0, 0, 0, 0, 0, 0, 0, 0, 0, 0, 0, 0,\n",
    "       0, 0, 0, 0, 0, 0, 0, 0, 0, 0, 0, 0, 0, 0, 0, 0, 0, 0, 0, 0, 0, 0,\n",
    "       0, 0, 0, 0, 0, 0, 0, 0, 0, 0, 0, 0]),base=2)"
   ]
  },
  {
   "cell_type": "code",
   "execution_count": 38,
   "id": "worldwide-sampling",
   "metadata": {},
   "outputs": [
    {
     "data": {
      "text/plain": [
       "0"
      ]
     },
     "execution_count": 38,
     "metadata": {},
     "output_type": "execute_result"
    }
   ],
   "source": [
    "entropy(np.array([0, 0, 0, 0, 0, 0, 0, 0, 0, 0, 0, 0, 0, 0, 0, 0, 0, 0, 0, 0, 0, 0,\n",
    "       0, 0, 0, 0, 0, 0, 0, 0, 0, 0, 0, 0, 0, 0, 0, 0, 0, 0, 0, 0, 0, 0,\n",
    "       0, 0, 0, 0, 0, 0, 0, 0, 0, 0, 0, 0, 0, 0, 0, 0, 0, 0, 0, 0, 0, 0,\n",
    "       0, 0, 0, 0, 0, 0, 0, 0, 0, 0, 0, 0, 0, 0, 0, 0, 0, 0, 0, 0, 0, 0,\n",
    "       0, 0, 0, 0, 0, 0, 0, 0, 0, 0, 0, 0, 0, 0, 0, 0, 0, 0, 0, 0, 0, 0,\n",
    "       0, 0, 0, 0, 0, 0, 0, 0, 0, 0, 0, 0, 0, 0, 0, 0, 0, 0, 0, 0, 0, 0,\n",
    "       0, 0, 0, 0, 0, 0, 0, 0, 0, 0, 0, 0, 0, 0, 0, 0, 0, 0, 0, 0, 0, 0,\n",
    "       0, 0, 0, 0, 0, 0, 0, 0, 0, 0, 0, 0, 0, 0, 0, 0, 0, 0, 0, 0, 0, 0,\n",
    "       0, 0, 0, 0, 0, 0, 0, 0, 0, 0, 0, 0, 0, 0, 0, 0, 0, 0, 0, 0, 0, 0,\n",
    "       0, 0, 0, 0, 0, 0, 0, 0, 0, 0, 0, 0, 0, 0, 0, 0, 0, 0, 0, 0, 0, 0,\n",
    "       0, 0, 0, 0, 0, 0, 0, 0, 0, 0, 0, 0]),base=2)"
   ]
  },
  {
   "cell_type": "code",
   "execution_count": null,
   "id": "indoor-belarus",
   "metadata": {},
   "outputs": [],
   "source": []
  }
 ],
 "metadata": {
  "kernelspec": {
   "display_name": "chemprop",
   "language": "python",
   "name": "chemprop"
  },
  "language_info": {
   "codemirror_mode": {
    "name": "ipython",
    "version": 3
   },
   "file_extension": ".py",
   "mimetype": "text/x-python",
   "name": "python",
   "nbconvert_exporter": "python",
   "pygments_lexer": "ipython3",
   "version": "3.8.5"
  }
 },
 "nbformat": 4,
 "nbformat_minor": 5
}
